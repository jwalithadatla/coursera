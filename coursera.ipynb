{
 "cells": [
  {
   "cell_type": "code",
   "execution_count": 1,
   "id": "6588be41-bae0-4a58-a21e-11d87debc8b7",
   "metadata": {},
   "outputs": [],
   "source": [
    "# My Data Science Notebook"
   ]
  },
  {
   "cell_type": "code",
   "execution_count": 5,
   "id": "4fc239d2-f224-40ff-a879-8274512fec43",
   "metadata": {},
   "outputs": [],
   "source": [
    "## Introduction\n",
    "#This notebook covers basic data science concepts, tools, and examples of arithmetic expressions using Python."
   ]
  },
  {
   "cell_type": "code",
   "execution_count": null,
   "id": "d94bb113-1432-4aaa-b42d-3a18879111f6",
   "metadata": {},
   "outputs": [],
   "source": [
    "## Data Science Languages\n",
    "- Python\n",
    "- R\n",
    "- SQL\n",
    "- Julia\n",
    "- SAS"
   ]
  },
  {
   "cell_type": "code",
   "execution_count": null,
   "id": "ef66e0ab-2d20-4acd-82f5-57918d9d8963",
   "metadata": {},
   "outputs": [],
   "source": [
    "## Data Science Libraries\n",
    "- Pandas\n",
    "- NumPy\n",
    "- Matplotlib\n",
    "- Seaborn\n",
    "- Scikit-learn\n",
    "- TensorFlow"
   ]
  },
  {
   "cell_type": "code",
   "execution_count": null,
   "id": "d2a77bb5-6a7e-4ca9-a218-81978e8b6cb2",
   "metadata": {},
   "outputs": [],
   "source": [
    "## Data Science Tools\n",
    "\n",
    "| Tool             | Description                        |\n",
    "|------------------|------------------------------------|\n",
    "| Jupyter Notebook | Interactive coding environment     |\n",
    "| RStudio          | IDE for R                        |\n",
    "| Tableau          | Data visualization platform     |\n",
    "| Apache Spark     | Big data processing             |\n",
    "| Power BI         | Business analytics tool         |"
   ]
  },
  {
   "cell_type": "code",
   "execution_count": null,
   "id": "6f596423-e00f-48fd-a451-57f56a4ad2ce",
   "metadata": {},
   "outputs": [],
   "source": [
    "## Arithmetic Expression Examples\n",
    "Below are some examples demonstrating basic arithmetic operations in Python."
   ]
  },
  {
   "cell_type": "code",
   "execution_count": 7,
   "id": "43a848c2-1e29-4df8-bd74-39c480d1532f",
   "metadata": {},
   "outputs": [
    {
     "name": "stdout",
     "output_type": "stream",
     "text": [
      "Result of (6 * 4) + 10: 34\n"
     ]
    }
   ],
   "source": [
    "# Multiply 6 by 4, then add 10\n",
    "result = (6 * 4) + 10\n",
    "print(\"Result of (6 * 4) + 10:\", result)"
   ]
  },
  {
   "cell_type": "code",
   "execution_count": 9,
   "id": "a1b0917a-fcfa-4cad-b5ea-d5a9af415865",
   "metadata": {},
   "outputs": [
    {
     "name": "stdout",
     "output_type": "stream",
     "text": [
      "150 minutes is equal to 2.5 hours.\n"
     ]
    }
   ],
   "source": [
    "# Convert 150 minutes to hours\n",
    "minutes = 150\n",
    "hours = minutes / 60\n",
    "print(f\"{minutes} minutes is equal to {hours} hours.\")"
   ]
  },
  {
   "cell_type": "code",
   "execution_count": null,
   "id": "423cce3c-a00a-4c8d-8234-3157b4271740",
   "metadata": {},
   "outputs": [],
   "source": [
    "## Objectives\n",
    "- Understand basic data science concepts\n",
    "- Learn common data science tools and libraries\n",
    "- Practice simple arithmetic operations in Python\n",
    "- Share notebooks via GitHub"
   ]
  },
  {
   "cell_type": "code",
   "execution_count": null,
   "id": "a1865d19-5bdb-4d17-97e4-a38d2a4625eb",
   "metadata": {},
   "outputs": [],
   "source": [
    "## Author\n",
    "jwalitha"
   ]
  }
 ],
 "metadata": {
  "kernelspec": {
   "display_name": "Python [conda env:base] *",
   "language": "python",
   "name": "conda-base-py"
  },
  "language_info": {
   "codemirror_mode": {
    "name": "ipython",
    "version": 3
   },
   "file_extension": ".py",
   "mimetype": "text/x-python",
   "name": "python",
   "nbconvert_exporter": "python",
   "pygments_lexer": "ipython3",
   "version": "3.12.7"
  }
 },
 "nbformat": 4,
 "nbformat_minor": 5
}
